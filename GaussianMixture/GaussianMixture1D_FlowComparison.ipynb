{
 "cells": [
  {
   "cell_type": "code",
   "execution_count": 1,
   "id": "375bc9ad",
   "metadata": {},
   "outputs": [
    {
     "data": {
      "text/plain": [
       "<module 'utils' from '/Users/francescacrucinio/Documents/PAPERS/SUBMITTED/SMC-WFR/GaussianMixture/../utils.py'>"
      ]
     },
     "execution_count": 1,
     "metadata": {},
     "output_type": "execute_result"
    }
   ],
   "source": [
    "# standard libraries\n",
    "from matplotlib import pyplot as plt\n",
    "import numpy as np\n",
    "from scipy.stats import multivariate_normal, norm\n",
    "from scipy import linalg, stats\n",
    "from particles import resampling as rs\n",
    "import time\n",
    "import importlib\n",
    "import sys\n",
    "sys.path.append('..')\n",
    "\n",
    "import GaussianMixtureAlgorithms as algo\n",
    "import utils as u\n",
    "importlib.reload(algo)\n",
    "importlib.reload(u)"
   ]
  },
  {
   "cell_type": "code",
   "execution_count": 2,
   "id": "8fda886a",
   "metadata": {},
   "outputs": [],
   "source": [
    "w = 1/2\n",
    "sigma = 1\n",
    "weights = np.array([w, 1-w])"
   ]
  },
  {
   "cell_type": "code",
   "execution_count": 3,
   "id": "05e93053",
   "metadata": {},
   "outputs": [
    {
     "data": {
      "text/plain": [
       "2155615773557599.0"
      ]
     },
     "execution_count": 3,
     "metadata": {},
     "output_type": "execute_result"
    }
   ],
   "source": [
    "m = 6\n",
    "d = 1\n",
    "LSI = 1 + (np.exp(m**2)+1)/2\n",
    "LSI"
   ]
  },
  {
   "cell_type": "code",
   "execution_count": 4,
   "id": "57bc2a61",
   "metadata": {},
   "outputs": [],
   "source": [
    "def gm1d_density(xx, m, w):\n",
    "    return w*norm.pdf(xx, loc = 0, scale = 1) + (1-w)*norm.pdf(xx, loc = m, scale = 1)\n",
    "\n",
    "xx = np.linspace(-3, 10, 100)\n",
    "yy = gm1d_density(xx, m, w)"
   ]
  },
  {
   "cell_type": "code",
   "execution_count": 5,
   "id": "1b5d5432",
   "metadata": {},
   "outputs": [],
   "source": [
    "# ms = np.array([np.zeros(d), m*np.ones(d)])\n",
    "ms = np.array([5*np.ones(d), 6*np.ones(d)])\n",
    "# Sigmas = np.array([np.eye(d), np.eye(d)])\n",
    "Sigmas = np.array([0.1*np.eye(d), 0.1*np.eye(d)])"
   ]
  },
  {
   "cell_type": "code",
   "execution_count": 6,
   "id": "2997e28c",
   "metadata": {},
   "outputs": [],
   "source": [
    "true_mean = np.mean(ms, axis = 0)\n",
    "true_var = np.zeros((d, d))\n",
    "for i in range(2):\n",
    "    true_var += Sigmas[i, :, :] + np.matmul((ms[i, :] - true_mean)[:, None], (ms[i, :] - true_mean)[:, None].T)\n",
    "true_var = true_var/2"
   ]
  },
  {
   "cell_type": "markdown",
   "id": "177a80d3",
   "metadata": {},
   "source": [
    "## Algorithms"
   ]
  },
  {
   "cell_type": "code",
   "execution_count": 7,
   "id": "99f85a0f",
   "metadata": {},
   "outputs": [],
   "source": [
    "N = 200\n",
    "X0 = np.random.multivariate_normal(np.zeros(d), np.eye(d), size = N)\n",
    "gamma = 0.05"
   ]
  },
  {
   "cell_type": "code",
   "execution_count": 8,
   "id": "c2b4dbe9",
   "metadata": {},
   "outputs": [],
   "source": [
    "component = np.random.randint(2, size = N)\n",
    "true_sample = np.zeros((d, N))\n",
    "for n in range(N):\n",
    "      true_sample[:, n] = np.random.multivariate_normal(ms[component[n], :], Sigmas[component[n], :, :], size = 1)[0]"
   ]
  },
  {
   "cell_type": "code",
   "execution_count": 9,
   "id": "d16eabf2",
   "metadata": {},
   "outputs": [],
   "source": [
    "# diffuse target\n",
    "Niter = 50\n",
    "Niter_ula = Niter*4\n",
    "Niter_mala = Niter\n",
    "Niter_fr = Niter\n",
    "Niter_smcula = Niter*3\n",
    "Niter_smcmala = Niter\n",
    "# concentrated target"
   ]
  },
  {
   "cell_type": "code",
   "execution_count": 10,
   "id": "8c82e165",
   "metadata": {},
   "outputs": [],
   "source": [
    "Nalgo = 6\n",
    "Nrep = 50\n",
    "\n",
    "ula_chain = np.zeros((Nrep, Niter_ula, d, N))\n",
    "mala_chain = np.zeros((Nrep, Niter_mala, d, N))\n",
    "fr_x = np.zeros((Nrep, Niter_fr, d, N))\n",
    "fr_w = np.zeros((Nrep, Niter_fr, N))\n",
    "wfr_x = np.zeros((Nrep, Niter, d, N))\n",
    "wfr_w = np.zeros((Nrep, Niter, N))\n",
    "smcula_x = np.zeros((Nrep, Niter_smcula, d, N))\n",
    "smcula_w = np.zeros((Nrep, Niter_smcula, N))\n",
    "smcmala_x = np.zeros((Nrep, Niter_smcmala, d, N))\n",
    "smcmala_w = np.zeros((Nrep, Niter_smcmala, N))\n",
    "\n",
    "runtime = np.zeros((Nrep, Nalgo))"
   ]
  },
  {
   "cell_type": "code",
   "execution_count": 11,
   "id": "34d1aaf7",
   "metadata": {},
   "outputs": [
    {
     "name": "stderr",
     "output_type": "stream",
     "text": [
      "/Users/francescacrucinio/Documents/PAPERS/SUBMITTED/SMC-WFR/GaussianMixture/GaussianMixtureAlgorithms.py:25: RuntimeWarning: divide by zero encountered in log\n",
      "  return np.log(np.sum(logpi, axis = 0))\n",
      "/Users/francescacrucinio/Documents/PAPERS/SUBMITTED/SMC-WFR/GaussianMixture/GaussianMixtureAlgorithms.py:25: RuntimeWarning: divide by zero encountered in log\n",
      "  return np.log(np.sum(logpi, axis = 0))\n"
     ]
    }
   ],
   "source": [
    "for i in range(Nrep):\n",
    "    ### ULA\n",
    "    start = time.time()\n",
    "    ula_chain[i,:] = algo.ParallelULA(gamma, Niter_ula, ms, Sigmas, weights, X0)\n",
    "    end = time.time()\n",
    "    runtime[i, 0] = end-start\n",
    "    ### MALA\n",
    "    start = time.time()\n",
    "    mala_chain[i,:] = algo.ParallelMALA(gamma, Niter_mala, ms, Sigmas, weights, X0)\n",
    "    end = time.time()\n",
    "    runtime[i, 1] = end-start\n",
    "    ### SMC-FR\n",
    "    start = time.time()\n",
    "    fr_x[i,:], fr_w[i,:] = algo.SMC_UnitFR(gamma, Niter_fr, ms, Sigmas, weights, X0)\n",
    "    end = time.time()\n",
    "    runtime[i, 2] = end-start\n",
    "    ### SMC-WFR\n",
    "    start = time.time()\n",
    "    wfr_x[i,:], wfr_w[i,:] = algo.SMC_WFR(gamma, Niter, ms, Sigmas, weights, X0)\n",
    "    end = time.time()\n",
    "    runtime[i, 3] = end-start\n",
    "    ### SMC-ULA\n",
    "    start = time.time()\n",
    "    smcula_x[i,:], smcula_w[i,:] = algo.SMC_ULA(gamma, Niter_smcula, ms, Sigmas, weights, X0)\n",
    "    end = time.time()\n",
    "    runtime[i, 4] = end-start\n",
    "    ### SMC-MALA\n",
    "    start = time.time()\n",
    "    smcmala_x[i,:], smcmala_w[i,:] = algo.SMC_MALA(gamma, Niter_smcmala, ms, Sigmas, weights, X0)\n",
    "    end = time.time()\n",
    "    runtime[i, 5] = end-start"
   ]
  },
  {
   "cell_type": "code",
   "execution_count": 12,
   "id": "25dfd425",
   "metadata": {},
   "outputs": [
    {
     "data": {
      "text/plain": [
       "array([0.06542698, 0.06937829, 0.05054447, 0.06386091, 0.07289069,\n",
       "       0.08782825])"
      ]
     },
     "execution_count": 12,
     "metadata": {},
     "output_type": "execute_result"
    }
   ],
   "source": [
    "avg_runtime = np.mean(runtime, axis = 0)\n",
    "avg_runtime"
   ]
  },
  {
   "cell_type": "code",
   "execution_count": 13,
   "id": "9682754e",
   "metadata": {},
   "outputs": [],
   "source": [
    "xx_ula = avg_runtime[0]/Niter_ula*np.arange(Niter_ula)\n",
    "xx_mala = avg_runtime[1]/Niter_mala*np.arange(Niter_mala)\n",
    "xx_fr = avg_runtime[2]/Niter_fr*np.arange(Niter_fr)\n",
    "xx_wfr = avg_runtime[3]/Niter*np.arange(Niter)\n",
    "xx_smcula = avg_runtime[4]/Niter_smcula*np.arange(Niter_smcula)\n",
    "xx_smcmala = avg_runtime[5]/Niter_smcmala*np.arange(Niter_smcmala)"
   ]
  },
  {
   "cell_type": "code",
   "execution_count": 14,
   "id": "82355dc7",
   "metadata": {},
   "outputs": [],
   "source": [
    "w1_ula = np.zeros((Nrep, Niter_ula))\n",
    "w1_mala = np.zeros((Nrep, Niter_mala))\n",
    "w1_fr = np.zeros((Nrep, Niter_fr))\n",
    "w1_wfr = np.zeros((Nrep, Niter))\n",
    "w1_smcula = np.zeros((Nrep, Niter_smcula))\n",
    "w1_smcmala = np.zeros((Nrep, Niter_smcmala))\n",
    "\n",
    "mmd_ula = np.zeros((Nrep, Niter_ula))\n",
    "mmd_mala = np.zeros((Nrep, Niter_mala))\n",
    "mmd_fr = np.zeros((Nrep, Niter_fr))\n",
    "mmd_wfr = np.zeros((Nrep, Niter))\n",
    "mmd_smcula = np.zeros((Nrep, Niter_smcula))\n",
    "mmd_smcmala = np.zeros((Nrep, Niter_smcmala))"
   ]
  },
  {
   "cell_type": "code",
   "execution_count": 15,
   "id": "727c8767",
   "metadata": {},
   "outputs": [],
   "source": [
    "for j in range(Nrep):\n",
    "    for i in range(Niter_ula):\n",
    "        w1_ula[j, i] = stats.wasserstein_distance(ula_chain[j, i, :, :].flatten(), true_sample.flatten())\n",
    "        mmd_ula[j, i] = u.mmd_rbf(true_sample.reshape(-1, 1), ula_chain[j, i, :, :].T)\n",
    "    for i in range(Niter_mala):\n",
    "        w1_mala[j, i] = stats.wasserstein_distance(mala_chain[j, i, :, :].flatten(), true_sample.flatten())\n",
    "        mmd_mala[j, i] = u.mmd_rbf(true_sample.reshape(-1, 1), mala_chain[j, i, :, :].T)\n",
    "    for i in range(Niter):\n",
    "        w1_wfr[j, i] = stats.wasserstein_distance(wfr_x[j, i, :, :].flatten(), true_sample.flatten(), u_weights = wfr_w[j, i, :])\n",
    "        mmd_wfr[j, i] = u.mmd_rbf(true_sample.reshape(-1, 1), wfr_x[j, i, :, :].T, w = wfr_w[j, i, :])\n",
    "    for i in range(Niter_fr):\n",
    "        w1_fr[j, i] = stats.wasserstein_distance(fr_x[j, i, :, :].flatten(), true_sample.flatten(), u_weights = fr_w[j, i, :])\n",
    "        mmd_fr[j, i] = u.mmd_rbf(true_sample.reshape(-1, 1), fr_x[j, i, :, :].T, w = fr_w[j, i, :])\n",
    "    for i in range(Niter_smcula):\n",
    "        w1_smcula[j, i] = stats.wasserstein_distance(smcula_x[j, i, :, :].flatten(), true_sample.flatten(), u_weights = smcula_w[j, i, :])\n",
    "        mmd_smcula[j, i] = u.mmd_rbf(true_sample.reshape(-1, 1), smcula_x[j, i, :, :].T, w = smcula_w[j, i, :])\n",
    "    for i in range(Niter_smcmala):\n",
    "        w1_smcmala[j, i] = stats.wasserstein_distance(smcmala_x[j, i, :, :].flatten(), true_sample.flatten(), u_weights = smcmala_w[j, i, :])\n",
    "        mmd_smcmala[j, i] = u.mmd_rbf(true_sample.reshape(-1, 1), smcmala_x[j, i, :, :].T, w = smcmala_w[j, i, :])\n",
    "        "
   ]
  },
  {
   "cell_type": "code",
   "execution_count": 20,
   "id": "035233f0",
   "metadata": {},
   "outputs": [
    {
     "data": {
      "image/png": "[encoded data removed]",
      "text/plain": [
       "<Figure size 504x360 with 1 Axes>"
      ]
     },
     "metadata": {
      "needs_background": "light"
     },
     "output_type": "display_data"
    }
   ],
   "source": [
    "plt.figure(figsize = (7,5))\n",
    "plt.plot(xx_ula, np.mean(w1_ula, axis = 0), label = 'ULA', lw = 2)\n",
    "plt.plot(xx_mala, np.mean(w1_mala, axis = 0), label = 'MALA')\n",
    "plt.plot(xx_fr, np.mean(w1_fr, axis = 0), label = 'SMC-FR', lw = 2)\n",
    "plt.plot(xx_wfr, np.mean(w1_wfr, axis = 0), label = 'SMC-WFR', lw = 2)\n",
    "plt.plot(xx_smcula, np.mean(w1_smcula, axis = 0), label = 'SMC-ULA')\n",
    "plt.plot(xx_smcmala, np.mean(w1_smcmala, axis = 0), label = 'SMC-MALA')\n",
    "# legend = plt.legend(loc = 'lower center', bbox_to_anchor=(1, -0.5), ncol = 6, fontsize = 20)\n",
    "plt.xlabel('runtime', fontsize = 20)\n",
    "plt.ylabel('$W_1$', fontsize = 20, labelpad=-1);\n",
    "plt.xticks(fontsize=15);\n",
    "plt.yticks(fontsize=15);\n",
    "# plt.savefig('w1_mixture2.pdf', bbox_inches=\"tight\")"
   ]
  },
  {
   "cell_type": "code",
   "execution_count": 19,
   "id": "63cee66e",
   "metadata": {},
   "outputs": [
    {
     "data": {
      "image/png": "[encoded data removed]",
      "text/plain": [
       "<Figure size 504x360 with 1 Axes>"
      ]
     },
     "metadata": {
      "needs_background": "light"
     },
     "output_type": "display_data"
    }
   ],
   "source": [
    "plt.figure(figsize = (7,5))\n",
    "plt.plot(xx_ula, np.mean(mmd_ula, axis = 0), lw = 2)\n",
    "plt.plot(xx_mala, np.mean(mmd_mala, axis = 0))\n",
    "plt.plot(xx_fr, np.mean(mmd_fr, axis = 0), lw = 2)\n",
    "plt.plot(xx_wfr, np.mean(mmd_wfr, axis = 0), lw = 2)\n",
    "plt.plot(xx_smcula, np.mean(mmd_smcula, axis = 0))\n",
    "plt.plot(xx_smcmala, np.mean(mmd_smcmala, axis = 0))\n",
    "plt.xlabel('runtime', fontsize = 20)\n",
    "plt.ylabel('MMD', fontsize = 20, labelpad=-1)\n",
    "plt.xticks(fontsize=15);\n",
    "plt.yticks(fontsize=15);\n",
    "# plt.savefig('mmd_mixture2.pdf', bbox_inches=\"tight\")"
   ]
  },
  {
   "cell_type": "code",
   "execution_count": 18,
   "id": "b04a619a",
   "metadata": {},
   "outputs": [],
   "source": [
    "# def export_legend(legend, filename=\"legend_mixture.pdf\", expand=[-5,-5,5,5]):\n",
    "#     fig  = legend.figure\n",
    "#     fig.canvas.draw()\n",
    "#     bbox  = legend.get_window_extent()\n",
    "#     bbox = bbox.from_extents(*(bbox.extents + np.array(expand)))\n",
    "#     bbox = bbox.transformed(fig.dpi_scale_trans.inverted())\n",
    "#     fig.savefig(filename, dpi=\"figure\", bbox_inches=bbox)\n",
    "\n",
    "# export_legend(legend)\n",
    "# plt.show()"
   ]
  }
 ],
 "metadata": {
  "kernelspec": {
   "display_name": "Python 3 (ipykernel)",
   "language": "python",
   "name": "python3"
  },
  "language_info": {
   "codemirror_mode": {
    "name": "ipython",
    "version": 3
   },
   "file_extension": ".py",
   "mimetype": "text/x-python",
   "name": "python",
   "nbconvert_exporter": "python",
   "pygments_lexer": "ipython3",
   "version": "3.9.7"
  }
 },
 "nbformat": 4,
 "nbformat_minor": 5
}
