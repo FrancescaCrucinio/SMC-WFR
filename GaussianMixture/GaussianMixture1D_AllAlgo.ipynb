{
 "cells": [
  {
   "cell_type": "code",
   "execution_count": 1,
   "id": "73f46c38",
   "metadata": {},
   "outputs": [
    {
     "data": {
      "text/plain": [
       "<module 'utils' from '/Users/francescacrucinio/Documents/PAPERS/SUBMITTED/SMC-WFR/GaussianMixture1D/../utils.py'>"
      ]
     },
     "execution_count": 1,
     "metadata": {},
     "output_type": "execute_result"
    }
   ],
   "source": [
    "# standard libraries\n",
    "from matplotlib import pyplot as plt\n",
    "import numpy as np\n",
    "from scipy.stats import multivariate_normal, norm\n",
    "from scipy import linalg, stats\n",
    "from particles import resampling as rs\n",
    "import time\n",
    "import importlib\n",
    "import sys\n",
    "sys.path.append('..')\n",
    "\n",
    "import GaussianMixture1DAlgorithms as algo\n",
    "import utils as u\n",
    "importlib.reload(algo)\n",
    "importlib.reload(u)"
   ]
  },
  {
   "cell_type": "code",
   "execution_count": 2,
   "id": "3f8e066c",
   "metadata": {},
   "outputs": [],
   "source": [
    "w = 1/2\n",
    "sigma = 1\n",
    "weights = np.array([w, 1-w])"
   ]
  },
  {
   "cell_type": "code",
   "execution_count": 3,
   "id": "72ccede9",
   "metadata": {},
   "outputs": [
    {
     "data": {
      "text/plain": [
       "2155615773557599.0"
      ]
     },
     "execution_count": 3,
     "metadata": {},
     "output_type": "execute_result"
    }
   ],
   "source": [
    "m = 6\n",
    "d = 1\n",
    "LSI = 1 + (np.exp(m**2)+1)/2\n",
    "LSI"
   ]
  },
  {
   "cell_type": "code",
   "execution_count": 4,
   "id": "3f4d0e52",
   "metadata": {},
   "outputs": [],
   "source": [
    "def gm1d_density(xx, m, w):\n",
    "    return w*norm.pdf(xx, loc = 0, scale = 1) + (1-w)*norm.pdf(xx, loc = m, scale = 1)\n",
    "\n",
    "xx = np.linspace(-3, 10, 100)\n",
    "yy = gm1d_density(xx, m, w)\n",
    "dx = xx[1]-xx[0]"
   ]
  },
  {
   "cell_type": "code",
   "execution_count": 5,
   "id": "f9984cf4",
   "metadata": {},
   "outputs": [],
   "source": [
    "ms = np.array([np.zeros(d), m*np.ones(d)])\n",
    "Sigmas = np.array([sigma*np.eye(d), sigma*np.eye(d)])"
   ]
  },
  {
   "cell_type": "code",
   "execution_count": 6,
   "id": "4fd1a6cc",
   "metadata": {},
   "outputs": [],
   "source": [
    "N = 100\n",
    "X0 = np.random.multivariate_normal(np.zeros(d), np.eye(d), size = N)\n",
    "Niter = 500\n",
    "gamma = 0.01"
   ]
  },
  {
   "cell_type": "code",
   "execution_count": 7,
   "id": "bf188dae",
   "metadata": {},
   "outputs": [
    {
     "data": {
      "text/plain": [
       "1.1231589317321777"
      ]
     },
     "execution_count": 7,
     "metadata": {},
     "output_type": "execute_result"
    }
   ],
   "source": [
    "### SMC-WFR\n",
    "start = time.time()\n",
    "wfr_x, wfr_w = algo.SMC_WFR(gamma, Niter, ms, Sigmas, weights, X0)\n",
    "end = time.time()\n",
    "end-start"
   ]
  },
  {
   "cell_type": "code",
   "execution_count": 8,
   "id": "b2e14fc5",
   "metadata": {},
   "outputs": [],
   "source": [
    "Niter_ula = Niter*3\n",
    "Niter_mala = Niter\n",
    "Niter_fr = Niter\n",
    "Niter_smcula = Niter\n",
    "Niter_smcmala = Niter"
   ]
  },
  {
   "cell_type": "code",
   "execution_count": 9,
   "id": "e69a43ca",
   "metadata": {},
   "outputs": [
    {
     "data": {
      "text/plain": [
       "0.5521538257598877"
      ]
     },
     "execution_count": 9,
     "metadata": {},
     "output_type": "execute_result"
    }
   ],
   "source": [
    "### ULA\n",
    "start = time.time()\n",
    "ula_chain = algo.ParallelULA(gamma, Niter_ula, ms, Sigmas, weights, X0)\n",
    "end = time.time()\n",
    "end-start"
   ]
  },
  {
   "cell_type": "code",
   "execution_count": 10,
   "id": "cea66783",
   "metadata": {},
   "outputs": [
    {
     "data": {
      "text/plain": [
       "0.7509860992431641"
      ]
     },
     "execution_count": 10,
     "metadata": {},
     "output_type": "execute_result"
    }
   ],
   "source": [
    "### MALA\n",
    "start = time.time()\n",
    "mala_chain = algo.ParallelMALA(gamma, Niter_mala, ms, Sigmas, weights, X0)\n",
    "end = time.time()\n",
    "end-start"
   ]
  },
  {
   "cell_type": "code",
   "execution_count": 11,
   "id": "faff1d16",
   "metadata": {},
   "outputs": [
    {
     "data": {
      "text/plain": [
       "0.43944716453552246"
      ]
     },
     "execution_count": 11,
     "metadata": {},
     "output_type": "execute_result"
    }
   ],
   "source": [
    "### SMC-FR\n",
    "start = time.time()\n",
    "fr_x, fr_w = algo.SMC_UnitFR(gamma, Niter_fr, ms, Sigmas, weights, X0)\n",
    "end = time.time()\n",
    "end-start"
   ]
  },
  {
   "cell_type": "code",
   "execution_count": 12,
   "id": "72453302",
   "metadata": {},
   "outputs": [
    {
     "data": {
      "text/plain": [
       "0.2610800266265869"
      ]
     },
     "execution_count": 12,
     "metadata": {},
     "output_type": "execute_result"
    }
   ],
   "source": [
    "### SMC-ULA\n",
    "start = time.time()\n",
    "smcula_x, smcula_w = algo.SMC_ULA(gamma, Niter_smcula, ms, Sigmas, weights, X0)\n",
    "end = time.time()\n",
    "end-start"
   ]
  },
  {
   "cell_type": "code",
   "execution_count": 13,
   "id": "11cfa542",
   "metadata": {},
   "outputs": [
    {
     "data": {
      "text/plain": [
       "0.9372320175170898"
      ]
     },
     "execution_count": 13,
     "metadata": {},
     "output_type": "execute_result"
    }
   ],
   "source": [
    "### SMC-MALA\n",
    "start = time.time()\n",
    "smcmala_x, smcmala_w = algo.SMC_MALA(gamma, Niter_smcmala, ms, Sigmas, weights, X0)\n",
    "end = time.time()\n",
    "end-start"
   ]
  },
  {
   "cell_type": "code",
   "execution_count": 21,
   "id": "b915b157",
   "metadata": {},
   "outputs": [
    {
     "data": {
      "text/plain": [
       "[<matplotlib.lines.Line2D at 0x7fc419c3e7c0>]"
      ]
     },
     "execution_count": 21,
     "metadata": {},
     "output_type": "execute_result"
    },
    {
     "data": {
      "image/png": "[encoded data removed]",
      "text/plain": [
       "<Figure size 432x288 with 1 Axes>"
      ]
     },
     "metadata": {
      "needs_background": "light"
     },
     "output_type": "display_data"
    }
   ],
   "source": [
    "plt.hist(ula_chain[-1, :, :].flatten(), density = True, bins = 50, alpha = 0.5);\n",
    "plt.hist(mala_chain[-1, :, :].flatten(), density = True, bins = 50, alpha = 0.5);\n",
    "plt.hist(fr_x[-1, :, :].flatten(), density = True, weights = fr_w[-1, :], bins = 50, alpha = 0.5);\n",
    "plt.hist(wfr_x[-1, :, :].flatten(), density = True, weights = wfr_w[-1, :], bins = 50, alpha = 0.5);\n",
    "plt.hist(smcula_x[-1, :, :].flatten(), density = True, weights = smcula_w[-1, :], bins = 50, alpha = 0.5);\n",
    "plt.hist(smcmala_x[-1, :, :].flatten(), density = True, weights = smcmala_w[-1, :], bins = 50, alpha = 0.5);\n",
    "plt.plot(xx, yy, c = 'black', lw = 5)"
   ]
  }
 ],
 "metadata": {
  "kernelspec": {
   "display_name": "Python 3 (ipykernel)",
   "language": "python",
   "name": "python3"
  },
  "language_info": {
   "codemirror_mode": {
    "name": "ipython",
    "version": 3
   },
   "file_extension": ".py",
   "mimetype": "text/x-python",
   "name": "python",
   "nbconvert_exporter": "python",
   "pygments_lexer": "ipython3",
   "version": "3.9.7"
  }
 },
 "nbformat": 4,
 "nbformat_minor": 5
}
