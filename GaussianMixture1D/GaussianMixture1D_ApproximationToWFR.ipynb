{
 "cells": [
  {
   "cell_type": "code",
   "execution_count": 1,
   "id": "73f46c38",
   "metadata": {},
   "outputs": [
    {
     "data": {
      "text/plain": [
       "<module 'utils' from '/Users/francescacrucinio/Documents/PAPERS/SUBMITTED/SMC-WFR/GaussianMixture1D/../utils.py'>"
      ]
     },
     "execution_count": 1,
     "metadata": {},
     "output_type": "execute_result"
    }
   ],
   "source": [
    "# standard libraries\n",
    "from matplotlib import pyplot as plt\n",
    "import numpy as np\n",
    "from scipy.stats import multivariate_normal, norm\n",
    "from scipy import linalg, stats\n",
    "from particles import resampling as rs\n",
    "import time\n",
    "import importlib\n",
    "import sys\n",
    "sys.path.append('..')\n",
    "\n",
    "import GaussianMixture1DAlgorithms as algo\n",
    "import utils as u\n",
    "importlib.reload(algo)\n",
    "importlib.reload(u)"
   ]
  },
  {
   "cell_type": "code",
   "execution_count": 2,
   "id": "3f8e066c",
   "metadata": {},
   "outputs": [],
   "source": [
    "w = 1/2\n",
    "sigma = 1\n",
    "weights = np.array([w, 1-w])"
   ]
  },
  {
   "cell_type": "code",
   "execution_count": 3,
   "id": "72ccede9",
   "metadata": {},
   "outputs": [
    {
     "data": {
      "text/plain": [
       "2155615773557599.0"
      ]
     },
     "execution_count": 3,
     "metadata": {},
     "output_type": "execute_result"
    }
   ],
   "source": [
    "m = 6\n",
    "d = 1\n",
    "LSI = 1 + (np.exp(m**2)+1)/2\n",
    "LSI"
   ]
  },
  {
   "cell_type": "code",
   "execution_count": 4,
   "id": "3f4d0e52",
   "metadata": {},
   "outputs": [],
   "source": [
    "def gm1d_density(xx, m, w):\n",
    "    return w*norm.pdf(xx, loc = 0, scale = 1) + (1-w)*norm.pdf(xx, loc = m, scale = 1)\n",
    "\n",
    "xx = np.linspace(-3, 10, 100)\n",
    "yy = gm1d_density(xx, m, w)\n",
    "dx = xx[1]-xx[0]"
   ]
  },
  {
   "cell_type": "code",
   "execution_count": 5,
   "id": "f9984cf4",
   "metadata": {},
   "outputs": [],
   "source": [
    "ms = np.array([np.zeros(d), m*np.ones(d)])\n",
    "Sigmas = np.array([sigma*np.eye(d), sigma*np.eye(d)])"
   ]
  },
  {
   "cell_type": "code",
   "execution_count": 6,
   "id": "4fd1a6cc",
   "metadata": {},
   "outputs": [],
   "source": [
    "N = 1000\n",
    "X0 = np.random.multivariate_normal(np.zeros(d), np.eye(d), size = N)\n",
    "Niter = 5000\n",
    "gamma = 0.01"
   ]
  },
  {
   "cell_type": "code",
   "execution_count": 7,
   "id": "bf188dae",
   "metadata": {},
   "outputs": [
    {
     "data": {
      "text/plain": [
       "47.9763867855072"
      ]
     },
     "execution_count": 7,
     "metadata": {},
     "output_type": "execute_result"
    }
   ],
   "source": [
    "### SMC-WFR\n",
    "start = time.time()\n",
    "wfr_x, wfr_w = algo.SMC_WFR(gamma, Niter, ms, Sigmas, weights, X0)\n",
    "end = time.time()\n",
    "end-start"
   ]
  },
  {
   "cell_type": "code",
   "execution_count": 15,
   "id": "72453302",
   "metadata": {},
   "outputs": [
    {
     "data": {
      "text/plain": [
       "1.759016990661621"
      ]
     },
     "execution_count": 15,
     "metadata": {},
     "output_type": "execute_result"
    }
   ],
   "source": [
    "### SMC-ULA\n",
    "start = time.time()\n",
    "smcula_x, smcula_w = algo.SMC_ULA(gamma, Niter, ms, Sigmas, weights, X0)\n",
    "end = time.time()\n",
    "end-start"
   ]
  },
  {
   "cell_type": "code",
   "execution_count": 16,
   "id": "11cfa542",
   "metadata": {},
   "outputs": [
    {
     "data": {
      "text/plain": [
       "6.084166049957275"
      ]
     },
     "execution_count": 16,
     "metadata": {},
     "output_type": "execute_result"
    }
   ],
   "source": [
    "### SMC-MALA\n",
    "start = time.time()\n",
    "smcmala_x, smcmala_w = algo.SMC_MALA(gamma, Niter, ms, Sigmas, weights, X0)\n",
    "end = time.time()\n",
    "end-start"
   ]
  },
  {
   "cell_type": "code",
   "execution_count": 17,
   "id": "b915b157",
   "metadata": {},
   "outputs": [
    {
     "data": {
      "text/plain": [
       "[<matplotlib.lines.Line2D at 0x7f9da3aa2ee0>]"
      ]
     },
     "execution_count": 17,
     "metadata": {},
     "output_type": "execute_result"
    },
    {
     "data": {
      "image/png": "[encoded data removed]",
      "text/plain": [
       "<Figure size 432x288 with 1 Axes>"
      ]
     },
     "metadata": {
      "needs_background": "light"
     },
     "output_type": "display_data"
    }
   ],
   "source": [
    "plt.hist(wfr_x[-1, :, :].flatten(), density = True, weights = wfr_w[-1, :], bins = 50, alpha = 0.5);\n",
    "plt.hist(smcula_x[-1, :, :].flatten(), density = True, weights = smcula_w[-1, :], bins = 50, alpha = 0.5);\n",
    "plt.hist(smcmala_x[-1, :, :].flatten(), density = True, weights = smcmala_w[-1, :], bins = 50, alpha = 0.5);\n",
    "plt.plot(xx, yy, c = 'black', lw = 5)"
   ]
  },
  {
   "cell_type": "code",
   "execution_count": 18,
   "id": "c6f3d62a",
   "metadata": {},
   "outputs": [],
   "source": [
    "kl_wfr = np.zeros(Niter)\n",
    "kl_smcula = np.zeros(Niter)\n",
    "kl_smcmala = np.zeros(Niter)\n",
    "for j in range(Niter):\n",
    "    kde_wfr = stats.gaussian_kde(wfr_x[j, :], weights = wfr_w[j, :])\n",
    "    kl_wfr[j] = dx*np.sum(kde_wfr(xx)*(np.log(kde_wfr(xx))-np.log(yy)))\n",
    "    kde_smcula = stats.gaussian_kde(smcula_x[j, :], weights = smcula_w[j, :])\n",
    "    kl_smcula[j] = dx*np.sum(kde_smcula(xx)*(np.log(kde_smcula(xx))-np.log(yy)))\n",
    "    kde_smcmala = stats.gaussian_kde(smcmala_x[j, :], weights = smcmala_w[j, :])\n",
    "    kl_smcmala[j] = dx*np.sum(kde_smcmala(xx)*(np.log(kde_smcmala(xx))-np.log(yy)))"
   ]
  },
  {
   "cell_type": "code",
   "execution_count": 20,
   "id": "fcdac788",
   "metadata": {},
   "outputs": [
    {
     "data": {
      "image/png": "[encoded data removed]",
      "text/plain": [
       "<Figure size 432x288 with 1 Axes>"
      ]
     },
     "metadata": {
      "needs_background": "light"
     },
     "output_type": "display_data"
    }
   ],
   "source": [
    "plt.plot(kl_wfr, label = 'SMC-WFR', color = 'gray', alpha = 0.7, lw = 3)\n",
    "plt.plot(kl_smcula, label = 'SMC-ULA', color = 'blue', alpha = 0.7, lw = 3)\n",
    "plt.plot(kl_smcmala, label = 'SMC-MALA', color = 'red', alpha = 0.7, lw = 3)\n",
    "plt.xlabel('$t$', fontsize = 20)\n",
    "plt.ylabel('KL$_t$', fontsize = 20, labelpad=-1)\n",
    "# plt.savefig('SMC_WFR_gaussianmix_alternatives.pdf', bbox_inches=\"tight\")"
   ]
  }
 ],
 "metadata": {
  "kernelspec": {
   "display_name": "Python 3 (ipykernel)",
   "language": "python",
   "name": "python3"
  },
  "language_info": {
   "codemirror_mode": {
    "name": "ipython",
    "version": 3
   },
   "file_extension": ".py",
   "mimetype": "text/x-python",
   "name": "python",
   "nbconvert_exporter": "python",
   "pygments_lexer": "ipython3",
   "version": "3.9.7"
  }
 },
 "nbformat": 4,
 "nbformat_minor": 5
}
