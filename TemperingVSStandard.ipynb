{
 "cells": [
  {
   "cell_type": "code",
   "execution_count": 1,
   "id": "0d4f82d9",
   "metadata": {},
   "outputs": [
    {
     "data": {
      "text/plain": [
       "<module 'utils' from '/Users/francescacrucinio/Documents/SMC-WFR/utils.py'>"
      ]
     },
     "execution_count": 1,
     "metadata": {},
     "output_type": "execute_result"
    }
   ],
   "source": [
    "# standard libraries\n",
    "from matplotlib import pyplot as plt\n",
    "import numpy as np\n",
    "from scipy.stats import multivariate_normal, norm\n",
    "from scipy import linalg, stats\n",
    "import time\n",
    "import importlib\n",
    "import sys\n",
    "sys.path.append('..')\n",
    "\n",
    "import GaussianMixtureAlgorithms as algo\n",
    "import utils as u\n",
    "importlib.reload(algo)\n",
    "importlib.reload(u)"
   ]
  },
  {
   "cell_type": "code",
   "execution_count": 2,
   "id": "520bf26d",
   "metadata": {},
   "outputs": [],
   "source": [
    "w = 1/2\n",
    "sigma = 1\n",
    "weights = np.array([w, 1-w])"
   ]
  },
  {
   "cell_type": "code",
   "execution_count": 3,
   "id": "c1c8e7ff",
   "metadata": {},
   "outputs": [],
   "source": [
    "m = np.arange(1, 11)\n",
    "d = 1"
   ]
  },
  {
   "cell_type": "code",
   "execution_count": 4,
   "id": "c55a5b00",
   "metadata": {},
   "outputs": [],
   "source": [
    "N = 500\n",
    "X0 = np.random.multivariate_normal(np.zeros(d), np.eye(d), size = N)\n",
    "Nrep = 50\n",
    "Niter = 200\n",
    "gamma = 0.3"
   ]
  },
  {
   "cell_type": "code",
   "execution_count": 5,
   "id": "118f4936",
   "metadata": {},
   "outputs": [
    {
     "data": {
      "text/plain": [
       "array([1.85914091e+00, 2.77990750e+01, 4.05204196e+03, 4.44305576e+06,\n",
       "       3.60024497e+10, 2.15561577e+15, 9.53673286e+20, 3.11757454e+27,\n",
       "       7.53048657e+34, 1.34405857e+43])"
      ]
     },
     "execution_count": 5,
     "metadata": {},
     "output_type": "execute_result"
    }
   ],
   "source": [
    "LSI = np.sqrt(sigma)*(1 + (np.exp(m**2)-1)/2)\n",
    "LSI"
   ]
  },
  {
   "cell_type": "code",
   "execution_count": 6,
   "id": "aec558d8",
   "metadata": {},
   "outputs": [],
   "source": [
    "lseq_linear = np.arange(1, Niter+1)/Niter\n",
    "alpha = 0.01\n",
    "lseq_exponential = 1-np.exp(-alpha*np.arange(1, Niter+1))\n",
    "lseq_optimal = 1-1/(2+np.arange(1, Niter+1))\n",
    "\n",
    "delta_linear = (gamma+np.exp(-gamma)-1)/gamma\n",
    "delta_exponential = (alpha*(np.exp(-gamma)-1)-np.exp(-alpha*gamma)+1)/(1-alpha)\n",
    "t = np.linspace(0, gamma, 100)\n",
    "delta_optimal = 1-np.exp(-gamma) - np.exp(-gamma)*(t[1]-t[0])*np.sum(np.exp(t)/(2+t))"
   ]
  },
  {
   "cell_type": "code",
   "execution_count": 7,
   "id": "c9fa8d39",
   "metadata": {},
   "outputs": [],
   "source": [
    "times_ula = np.zeros((m.size, Nrep))\n",
    "times_tula_linear = np.zeros((m.size, Nrep))\n",
    "times_tula_exponential = np.zeros((m.size, Nrep))\n",
    "times_tula_optimal = np.zeros((m.size, Nrep))\n",
    "\n",
    "mmd_ula = np.zeros((Niter, m.size, Nrep))\n",
    "mmd_tula_linear = np.zeros((Niter, m.size, Nrep))\n",
    "mmd_tula_exponential = np.zeros((Niter, m.size, Nrep))\n",
    "mmd_tula_optimal = np.zeros((Niter, m.size, Nrep))\n",
    "\n",
    "times_wfr = np.zeros((m.size, Nrep))\n",
    "times_twfr_linear = np.zeros((m.size, Nrep))\n",
    "times_twfr_exponential = np.zeros((m.size, Nrep))\n",
    "times_twfr_optimal = np.zeros((m.size, Nrep))\n",
    "\n",
    "mmd_wfr = np.zeros((Niter, m.size, Nrep))\n",
    "mmd_twfr_linear = np.zeros((Niter, m.size, Nrep))\n",
    "mmd_twfr_exponential = np.zeros((Niter, m.size, Nrep))\n",
    "mmd_twfr_optimal = np.zeros((Niter, m.size, Nrep))"
   ]
  },
  {
   "cell_type": "code",
   "execution_count": 9,
   "id": "e6bc4f1f",
   "metadata": {},
   "outputs": [],
   "source": [
    "for i in range(m.size):\n",
    "    ms = np.array([np.zeros(d), m[i]*np.ones(d)])\n",
    "    Sigmas = np.array([sigma*np.eye(d), sigma*np.eye(d)])\n",
    "    component = np.random.choice(2, p = weights, size = N)\n",
    "    true_sample = np.zeros((N, d))\n",
    "    for n in range(N):\n",
    "        true_sample[n, :] = np.random.multivariate_normal(ms[component[n], :], Sigmas[component[n], :, :], size = 1)\n",
    "    for j in range(Nrep):\n",
    "        # ULA\n",
    "        start = time.time()\n",
    "        ula_chain = algo.ParallelULA(gamma, Niter, ms, Sigmas, weights, X0)\n",
    "        end = time.time()\n",
    "        times_ula[i, j] = end-start\n",
    "        for k in range(Niter):\n",
    "            mmd_ula[k, i, j] = u.mmd_rbf(true_sample, ula_chain[k, :, :].T)\n",
    "        # Tempered ULA linear\n",
    "        start = time.time()\n",
    "        tempered_ula_chain_linear = algo.TemperedULA(gamma, Niter, ms, Sigmas, weights, X0, lseq_linear)\n",
    "        end = time.time()\n",
    "        times_tula_linear[i, j] = end-start\n",
    "        for k in range(Niter):\n",
    "            mmd_tula_linear[k, i, j] = u.mmd_rbf(true_sample, tempered_ula_chain_linear[k, :, :].T)\n",
    "        # Tempered ULA exponential\n",
    "        start = time.time()\n",
    "        tempered_ula_chain_exponential = algo.TemperedULA(gamma, Niter, ms, Sigmas, weights, X0, lseq_exponential)\n",
    "        end = time.time()\n",
    "        times_tula_exponential[i, j] = end-start\n",
    "        for k in range(Niter):\n",
    "            mmd_tula_exponential[k, i, j] = u.mmd_rbf(true_sample, tempered_ula_chain_exponential[k, :, :].T)\n",
    "        # Tempered ULA optimal\n",
    "        start = time.time()\n",
    "        tempered_ula_chain_optimal = algo.TemperedULA(gamma, Niter, ms, Sigmas, weights, X0, lseq_optimal)\n",
    "        end = time.time()\n",
    "        times_tula_optimal[i, j] = end-start\n",
    "        for k in range(Niter):\n",
    "            mmd_tula_optimal[k, i, j] = u.mmd_rbf(true_sample, tempered_ula_chain_optimal[k, :, :].T)\n",
    "\n",
    "        # WFR\n",
    "        start = time.time()\n",
    "        wfr_x, wfr_w = algo.WFR(gamma, Niter, ms, Sigmas, weights, X0)\n",
    "        end = time.time()\n",
    "        times_wfr[i, j] = end-start\n",
    "        for k in range(Niter):\n",
    "            mmd_wfr[k, i, j] = u.mmd_rbf(true_sample, wfr_x[k, :, :].T, w = wfr_w[k, :])\n",
    "        # Tempered WFR linear\n",
    "        start = time.time()\n",
    "        tempered_wfr_linear_x, tempered_wfr_linear_w = algo.TemperedWFR(gamma, Niter, ms, Sigmas, weights, X0, lseq_linear, delta_linear)\n",
    "        end = time.time()\n",
    "        times_twfr_linear[i, j] = end-start\n",
    "        for k in range(Niter):\n",
    "            mmd_twfr_linear[k, i, j] = u.mmd_rbf(true_sample, tempered_wfr_linear_x[k, :, :].T, w = tempered_wfr_linear_w[k, :])\n",
    "        # Tempered WFR exponential\n",
    "        start = time.time()\n",
    "        tempered_wfr_exponential_x, tempered_wfr_exponential_w = algo.TemperedWFR(gamma, Niter, ms, Sigmas, weights, X0, lseq_exponential, delta_exponential)\n",
    "        end = time.time()\n",
    "        times_twfr_exponential[i, j] = end-start\n",
    "        for k in range(Niter):\n",
    "            mmd_twfr_exponential[k, i, j] = u.mmd_rbf(true_sample, tempered_wfr_exponential_x[k, :, :].T, w = tempered_wfr_exponential_w[k, :])\n",
    "        # Tempered WFR optimal\n",
    "        start = time.time()\n",
    "        tempered_wfr_optimal_x, tempered_wfr_optimal_w = algo.TemperedWFR(gamma, Niter, ms, Sigmas, weights, X0, lseq_optimal, delta_optimal)\n",
    "        end = time.time()\n",
    "        times_twfr_optimal[i, j] = end-start\n",
    "        for k in range(Niter):\n",
    "            mmd_twfr_optimal[k, i, j] = u.mmd_rbf(true_sample, tempered_wfr_optimal_x[k, :, :].T, w = tempered_wfr_optimal_w[k, :])"
   ]
  },
  {
   "cell_type": "code",
   "execution_count": 10,
   "id": "d20cbc60",
   "metadata": {},
   "outputs": [],
   "source": [
    "eps = 0.01"
   ]
  },
  {
   "cell_type": "code",
   "execution_count": 11,
   "id": "971fbe52",
   "metadata": {},
   "outputs": [],
   "source": [
    "prop_cycle = plt.rcParams['axes.prop_cycle']\n",
    "colors = prop_cycle.by_key()['color']"
   ]
  },
  {
   "cell_type": "code",
   "execution_count": 12,
   "id": "bbf986e3",
   "metadata": {},
   "outputs": [
    {
     "data": {
      "text/plain": [
       "Text(0.5, 0, '$m$')"
      ]
     },
     "execution_count": 12,
     "metadata": {},
     "output_type": "execute_result"
    },
    {
     "data": {
      "image/png": "[encoded data removed]",
      "text/plain": [
       "<Figure size 432x288 with 1 Axes>"
      ]
     },
     "metadata": {
      "needs_background": "light"
     },
     "output_type": "display_data"
    }
   ],
   "source": [
    "plt.plot(m, (Niter - np.mean(np.sum(mmd_wfr<eps, axis = 0), axis = 1))/Niter, label = 'WFR', lw = 2, color = colors[0]);\n",
    "plt.plot(m, (Niter - np.mean(np.sum(mmd_ula<eps, axis = 0), axis = 1))/Niter, label = 'W', lw = 2, linestyle = 'dashed');\n",
    "plt.plot(m, (Niter - np.mean(np.sum(mmd_twfr_linear<eps, axis = 0), axis = 1))/Niter, label = 'T-WFR lin', lw = 2, color = colors[1]);\n",
    "plt.plot(m, (Niter - np.mean(np.sum(mmd_tula_linear<eps, axis = 0), axis = 1))/Niter, label = 'T-W lin', lw = 2, linestyle = 'dashed');\n",
    "plt.plot(m, (Niter - np.mean(np.sum(mmd_twfr_exponential<eps, axis = 0), axis = 1))/Niter, label = 'T-WFR exp', lw = 2, color = colors[2]);\n",
    "plt.plot(m, (Niter - np.mean(np.sum(mmd_tula_exponential<eps, axis = 0), axis = 1))/Niter, label = 'T-W exp', lw = 2, linestyle = 'dashed');\n",
    "plt.plot(m, (Niter - np.mean(np.sum(mmd_twfr_optimal<eps, axis = 0), axis = 1))/Niter, label = 'T-WFR opt', lw = 2, color = colors[3]);\n",
    "plt.plot(m, (Niter - np.mean(np.sum(mmd_tula_optimal<eps, axis = 0), axis = 1))/Niter, label = 'T-W opt', lw = 2, linestyle = 'dashed');\n",
    "plt.legend(fontsize = 10, ncol = 4, bbox_to_anchor=(1.0, -0.15))\n",
    "plt.xlabel('$m$', fontsize = 13)\n",
    "# plt.savefig(\"gaussian_mix_1dm.pdf\", bbox_inches='tight')"
   ]
  },
  {
   "cell_type": "code",
   "execution_count": 13,
   "id": "8061312c",
   "metadata": {},
   "outputs": [
    {
     "data": {
      "image/png": "[encoded data removed]",
      "text/plain": [
       "<Figure size 432x288 with 1 Axes>"
      ]
     },
     "metadata": {
      "needs_background": "light"
     },
     "output_type": "display_data"
    }
   ],
   "source": [
    "x = np.linspace(-5, 15, 1000)\n",
    "z = 0\n",
    "for j in range(weights.size):\n",
    "    z += weights[j]*norm.pdf(x, ms[j,:], Sigmas[j,:,:])\n",
    "plt.plot(x, z.T)\n",
    "plt.hist(tempered_wfr_exponential_x[-1, 0, :], density = True, weights = tempered_wfr_exponential_w[-1, :]);"
   ]
  },
  {
   "cell_type": "code",
   "execution_count": 15,
   "id": "9b22c75e",
   "metadata": {},
   "outputs": [
    {
     "data": {
      "text/plain": [
       "(0.505929166316986, 0.5066459589004516, 0.5050102715492248, 0.5056481313705444)"
      ]
     },
     "execution_count": 15,
     "metadata": {},
     "output_type": "execute_result"
    }
   ],
   "source": [
    "np.mean(times_wfr), np.mean(times_twfr_linear), np.mean(times_twfr_exponential), np.mean(times_twfr_optimal)"
   ]
  }
 ],
 "metadata": {
  "kernelspec": {
   "display_name": "Python 3 (ipykernel)",
   "language": "python",
   "name": "python3"
  },
  "language_info": {
   "codemirror_mode": {
    "name": "ipython",
    "version": 3
   },
   "file_extension": ".py",
   "mimetype": "text/x-python",
   "name": "python",
   "nbconvert_exporter": "python",
   "pygments_lexer": "ipython3",
   "version": "3.9.7"
  }
 },
 "nbformat": 4,
 "nbformat_minor": 5
}
